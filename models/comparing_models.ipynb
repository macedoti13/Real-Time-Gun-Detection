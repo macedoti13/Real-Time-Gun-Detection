{
  "cells": [
    {
      "cell_type": "code",
      "execution_count": 1,
      "metadata": {},
      "outputs": [],
      "source": [
        "import pandas as pd"
      ]
    },
    {
      "cell_type": "code",
      "execution_count": 3,
      "metadata": {
        "colab": {
          "base_uri": "https://localhost:8080/"
        },
        "id": "rFJOD95Td5y2",
        "outputId": "c3c24d16-4f57-449c-eb85-82a91ab511ca"
      },
      "outputs": [
        {
          "name": "stderr",
          "output_type": "stream",
          "text": [
            "YOLOv5 🚀 v7.0-186-g0acc5cf Python-3.10.12 torch-2.0.1+cu118 CPU\n"
          ]
        },
        {
          "name": "stdout",
          "output_type": "stream",
          "text": [
            "Setup complete ✅ (2 CPUs, 12.7 GB RAM, 24.2/225.8 GB disk)\n"
          ]
        }
      ],
      "source": [
        "!git clone https://github.com/ultralytics/yolov5  # clone\n",
        "%cd yolov5\n",
        "%pip install -qr requirements.txt comet_ml  # install\n",
        "\n",
        "import torch\n",
        "import utils\n",
        "display = utils.notebook_init()  # checks"
      ]
    },
    {
      "cell_type": "code",
      "execution_count": 4,
      "metadata": {
        "colab": {
          "base_uri": "https://localhost:8080/"
        },
        "id": "tLFzq9ZUeJfX",
        "outputId": "50cd6101-c7cf-4c4f-dd2b-1db85214e857"
      },
      "outputs": [
        {
          "name": "stderr",
          "output_type": "stream",
          "text": [
            "Ultralytics YOLOv8.0.122 🚀 Python-3.10.12 torch-2.0.1+cu118 CPU\n",
            "Setup complete ✅ (2 CPUs, 12.7 GB RAM, 24.2/225.8 GB disk)\n"
          ]
        }
      ],
      "source": [
        "%pip install ultralytics\n",
        "import ultralytics\n",
        "ultralytics.checks()"
      ]
    },
    {
      "cell_type": "code",
      "execution_count": 5,
      "metadata": {
        "id": "a5kDuc80dmhj"
      },
      "outputs": [],
      "source": [
        "import os\n",
        "import cv2\n",
        "import time\n",
        "import numpy as np\n",
        "import matplotlib.pyplot as plt\n",
        "from sklearn.metrics import precision_recall_curve"
      ]
    },
    {
      "cell_type": "code",
      "execution_count": null,
      "metadata": {
        "id": "o8Y2MzWueVAo"
      },
      "outputs": [],
      "source": [
        "!python detect.py --weights ../drive/MyDrive/yolo_weights/yolov5s.pt --img 640 --conf 0.25 --source ../drive/MyDrive/guns_dataset/test/images/ --save-txt"
      ]
    },
    {
      "cell_type": "code",
      "execution_count": null,
      "metadata": {
        "id": "GZ-x-tbYgOO5"
      },
      "outputs": [],
      "source": [
        "!python detect.py --weights ../drive/MyDrive/yolo_weights/yolov5m.pt --img 640 --conf 0.25 --source ../drive/MyDrive/guns_dataset/test/images/ --save-txt"
      ]
    },
    {
      "cell_type": "code",
      "execution_count": null,
      "metadata": {
        "id": "6YHDKsqqirEm"
      },
      "outputs": [],
      "source": [
        "!python detect.py --weights ../drive/MyDrive/yolo_weights/yolov5l.pt --img 640 --conf 0.25 --source ../drive/MyDrive/guns_dataset/test/images/ --save-txt"
      ]
    },
    {
      "cell_type": "code",
      "execution_count": null,
      "metadata": {
        "id": "4HMGUGrCw2qe"
      },
      "outputs": [],
      "source": [
        "!yolo predict model='../drive/MyDrive/yolo_weights/yolov8s.pt' source='../drive/MyDrive/guns_dataset/test/images/' save_txt=True"
      ]
    },
    {
      "cell_type": "code",
      "execution_count": null,
      "metadata": {
        "id": "RpKERXMgxC2v"
      },
      "outputs": [],
      "source": [
        "!yolo predict model='../drive/MyDrive/yolo_weights/yolov8m.pt' source='../drive/MyDrive/guns_dataset/test/images/' save_txt=True"
      ]
    },
    {
      "cell_type": "code",
      "execution_count": null,
      "metadata": {
        "id": "yyGqryqWxDNX"
      },
      "outputs": [],
      "source": [
        "!yolo predict model='../drive/MyDrive/yolo_weights/yolov8l.pt' source='../drive/MyDrive/guns_dataset/test/images/' save_txt=True"
      ]
    },
    {
      "cell_type": "code",
      "execution_count": 28,
      "metadata": {
        "colab": {
          "base_uri": "https://localhost:8080/"
        },
        "id": "ZmHuDcNQDlaV",
        "outputId": "bef1b0f6-a11a-448d-859a-b030e3e7f258"
      },
      "outputs": [
        {
          "name": "stdout",
          "output_type": "stream",
          "text": [
            "Metrics for yolov5s:\n",
            "Precision: 0.7\n",
            "Recall: 0.5833333333333334\n",
            "F1-Score: 0.6363636363636365\n",
            "Mean IoU: 0.4634777703755259\n",
            "\n",
            "Metrics for yolov5m:\n",
            "Precision: 0.84\n",
            "Recall: 0.7\n",
            "F1-Score: 0.7636363636363636\n",
            "Mean IoU: 0.4750765074676375\n",
            "\n",
            "Metrics for yolov5l:\n",
            "Precision: 0.7777777777777778\n",
            "Recall: 0.5384615384615384\n",
            "F1-Score: 0.6363636363636364\n",
            "Mean IoU: 0.4174053931381022\n",
            "\n",
            "Metrics for yolov8s:\n",
            "Precision: 0.7391304347826086\n",
            "Recall: 0.5666666666666667\n",
            "F1-Score: 0.6415094339622641\n",
            "Mean IoU: 0.44347930563871024\n",
            "\n",
            "Metrics for yolov8m:\n",
            "Precision: 0.8571428571428571\n",
            "Recall: 0.5454545454545454\n",
            "F1-Score: 0.6666666666666665\n",
            "Mean IoU: 0.43813508262587286\n",
            "\n",
            "Metrics for yolov8l:\n",
            "Precision: 1.0\n",
            "Recall: 0.6774193548387096\n",
            "F1-Score: 0.8076923076923077\n",
            "Mean IoU: 0.42153099459431687\n",
            "\n"
          ]
        }
      ],
      "source": [
        "import numpy as np\n",
        "from sklearn.metrics import precision_score, recall_score, f1_score\n",
        "from glob import glob\n",
        "import os\n",
        "\n",
        "# function to calculate Intersection over Union\n",
        "def bb_intersection_over_union(boxA, boxB):\n",
        "    # determine the (x, y)-coordinates of the intersection rectangle\n",
        "    xA = max(boxA[0], boxB[0])\n",
        "    yA = max(boxA[1], boxB[1])\n",
        "    xB = min(boxA[2], boxB[2])\n",
        "    yB = min(boxA[3], boxB[3])\n",
        "    # compute the area of intersection rectangle\n",
        "    interArea = max(0, xB - xA) * max(0, yB - yA)\n",
        "    # compute the area of both the prediction and ground-truth rectangles\n",
        "    boxAArea = (boxA[2] - boxA[0]) * (boxA[3] - boxA[1])\n",
        "    boxBArea = (boxB[2] - boxB[0]) * (boxB[3] - boxB[1])\n",
        "    # compute the intersection over union by taking the intersection area and dividing it by the sum of prediction + ground-truth areas - the intersection area\n",
        "    iou = interArea / float(boxAArea + boxBArea - interArea) if (boxAArea + boxBArea - interArea) != 0 else 0\n",
        "    # return the intersection over union value\n",
        "    return iou\n",
        "\n",
        "# function to calculate metrics\n",
        "def calculate_metrics(original_path, predicted_path):\n",
        "    original_files = glob(os.path.join(original_path, \"*.txt\"))\n",
        "    predicted_files = glob(os.path.join(predicted_path, \"*.txt\"))\n",
        "\n",
        "    y_true = []\n",
        "    y_pred = []\n",
        "    ious = []\n",
        "\n",
        "    for original_file in original_files:\n",
        "        filename = os.path.basename(original_file)\n",
        "        predicted_file = os.path.join(predicted_path, filename)\n",
        "\n",
        "        if os.path.exists(predicted_file):\n",
        "            with open(original_file, \"r\") as f:\n",
        "                original_boxes = np.array([list(map(float, box.split())) for box in f.readlines() if box.strip()])\n",
        "\n",
        "            with open(predicted_file, \"r\") as f:\n",
        "                predicted_boxes = np.array([list(map(float, box.split())) for box in f.readlines() if box.strip()])\n",
        "\n",
        "            if len(original_boxes) > 0 and len(predicted_boxes) > 0:\n",
        "                for original_box in original_boxes:\n",
        "                    best_iou = 0\n",
        "                    best_predicted_box = None\n",
        "                    for predicted_box in predicted_boxes:\n",
        "                        iou = bb_intersection_over_union(original_box[1:], predicted_box[1:])\n",
        "                        if iou > best_iou:\n",
        "                            best_iou = iou\n",
        "                            best_predicted_box = predicted_box\n",
        "\n",
        "                    if best_predicted_box is not None:\n",
        "                        y_true.append(original_box[0])\n",
        "                        y_pred.append(best_predicted_box[0])\n",
        "                        ious.append(best_iou)\n",
        "\n",
        "    if len(y_true) > 0 and len(y_pred) > 0:\n",
        "        precision = precision_score(y_true, y_pred)\n",
        "        recall = recall_score(y_true, y_pred)\n",
        "        f1 = f1_score(y_true, y_pred)\n",
        "        mean_iou = np.mean(ious)\n",
        "        return precision, recall, f1, mean_iou\n",
        "    else:\n",
        "        return None, None, None, None\n",
        "\n",
        "original_labels = \"../drive/MyDrive/guns_dataset/test/labels\"\n",
        "model_paths = {\n",
        "    'yolov5s': \"runs/detect/exp7/labels\",\n",
        "    'yolov5m': \"runs/detect/exp8/labels\",\n",
        "    'yolov5l': \"runs/detect/exp9/labels\",\n",
        "    'yolov8s': \"runs/detect/predict4/labels\",\n",
        "    'yolov8m': \"runs/detect/predict5/labels\",\n",
        "    'yolov8l': \"runs/detect/predict6/labels\"\n",
        "}\n",
        "\n",
        "# calculate metrics for each model\n",
        "for model, path in model_paths.items():\n",
        "    precision, recall, f1, mean_iou = calculate_metrics(original_labels, path)\n",
        "    if precision is not None:\n",
        "        print(f'Metrics for {model}:')\n",
        "        print(f'Precision: {precision}')\n",
        "        print(f'Recall: {recall}')\n",
        "        print(f'F1-Score: {f1}')\n",
        "        print(f'Mean IoU: {mean_iou}\\n')\n",
        "    else:\n",
        "        print(f'No detections for {model}')\n"
      ]
    },
    {
      "cell_type": "code",
      "execution_count": null,
      "metadata": {
        "id": "kOr_2lk9Zwjl"
      },
      "outputs": [],
      "source": [
        "import os\n",
        "import time\n",
        "import cv2\n",
        "import torch\n",
        "from glob import glob\n",
        "from ultralytics import YOLO\n",
        "\n",
        "def get_inference_time(model, img_path, device):\n",
        "    img = cv2.imread(str(img_path))\n",
        "    img = cv2.cvtColor(img, cv2.COLOR_BGR2RGB)\n",
        "    img_tensor = torch.from_numpy(img).permute(2,0,1).float().div(255.0).unsqueeze(0).to(device)\n",
        "\n",
        "    start_time = time.time()\n",
        "    results = model(img_tensor)\n",
        "    end_time = time.time()\n",
        "    inference_time = end_time - start_time\n",
        "    return inference_time\n",
        "\n",
        "models_paths = {\n",
        "    'yolov5s': \"../drive/MyDrive/yolo_weights/yolov5s.pt\",\n",
        "    'yolov5m': \"../drive/MyDrive/yolo_weights/yolov5m.pt\",\n",
        "    'yolov5l': \"../drive/MyDrive/yolo_weights/yolov5l.pt\",\n",
        "    'yolov8s': \"../drive/MyDrive/yolo_weights/yolov8s.pt\",\n",
        "    'yolov8m': \"../drive/MyDrive/yolo_weights/yolov8m.pt\",\n",
        "    'yolov8l': \"../drive/MyDrive/yolo_weights/yolov8l.pt\",\n",
        "}\n",
        "\n",
        "inference_times = {}\n",
        "device = torch.device('cuda' if torch.cuda.is_available() else 'cpu')\n",
        "\n",
        "for model_name, model_path in models_paths.items():\n",
        "    if 'yolov8' in model_name:\n",
        "        model = YOLO(model_path)\n",
        "    else:\n",
        "        model = torch.hub.load('ultralytics/yolov5', 'custom', path=model_path, force_reload=True).to(device)\n",
        "\n",
        "    #model.eval()\n",
        "\n",
        "    img_list = glob('/content/drive/MyDrive/guns_dataset/test/images/*.jpg')[:10]\n",
        "    total_time = 0\n",
        "    for img in img_list:\n",
        "        total_time += get_inference_time(model, img, device)\n",
        "\n",
        "    average_time = total_time / len(img_list)\n",
        "    inference_times[model_name] = average_time  # Change to model_name to correspond with the plotted models' names\n",
        "\n",
        "print(inference_times)\n"
      ]
    },
    {
      "cell_type": "code",
      "execution_count": 2,
      "metadata": {},
      "outputs": [
        {
          "data": {
            "text/html": [
              "<div>\n",
              "<style scoped>\n",
              "    .dataframe tbody tr th:only-of-type {\n",
              "        vertical-align: middle;\n",
              "    }\n",
              "\n",
              "    .dataframe tbody tr th {\n",
              "        vertical-align: top;\n",
              "    }\n",
              "\n",
              "    .dataframe thead th {\n",
              "        text-align: right;\n",
              "    }\n",
              "</style>\n",
              "<table border=\"1\" class=\"dataframe\">\n",
              "  <thead>\n",
              "    <tr style=\"text-align: right;\">\n",
              "      <th></th>\n",
              "      <th>Model</th>\n",
              "      <th>Precision</th>\n",
              "      <th>Recall</th>\n",
              "      <th>F1-Score</th>\n",
              "      <th>Mean IoU</th>\n",
              "    </tr>\n",
              "  </thead>\n",
              "  <tbody>\n",
              "    <tr>\n",
              "      <th>0</th>\n",
              "      <td>yolov5s</td>\n",
              "      <td>0.700000</td>\n",
              "      <td>0.583333</td>\n",
              "      <td>0.636364</td>\n",
              "      <td>0.463478</td>\n",
              "    </tr>\n",
              "    <tr>\n",
              "      <th>1</th>\n",
              "      <td>yolov5m</td>\n",
              "      <td>0.840000</td>\n",
              "      <td>0.700000</td>\n",
              "      <td>0.763636</td>\n",
              "      <td>0.475077</td>\n",
              "    </tr>\n",
              "    <tr>\n",
              "      <th>2</th>\n",
              "      <td>yolov5l</td>\n",
              "      <td>0.777778</td>\n",
              "      <td>0.538462</td>\n",
              "      <td>0.636364</td>\n",
              "      <td>0.417405</td>\n",
              "    </tr>\n",
              "    <tr>\n",
              "      <th>3</th>\n",
              "      <td>yolov8s</td>\n",
              "      <td>0.739130</td>\n",
              "      <td>0.566667</td>\n",
              "      <td>0.641509</td>\n",
              "      <td>0.443479</td>\n",
              "    </tr>\n",
              "    <tr>\n",
              "      <th>4</th>\n",
              "      <td>yolov8m</td>\n",
              "      <td>0.857143</td>\n",
              "      <td>0.545455</td>\n",
              "      <td>0.666667</td>\n",
              "      <td>0.438135</td>\n",
              "    </tr>\n",
              "  </tbody>\n",
              "</table>\n",
              "</div>"
            ],
            "text/plain": [
              "     Model  Precision    Recall  F1-Score  Mean IoU\n",
              "0  yolov5s   0.700000  0.583333  0.636364  0.463478\n",
              "1  yolov5m   0.840000  0.700000  0.763636  0.475077\n",
              "2  yolov5l   0.777778  0.538462  0.636364  0.417405\n",
              "3  yolov8s   0.739130  0.566667  0.641509  0.443479\n",
              "4  yolov8m   0.857143  0.545455  0.666667  0.438135"
            ]
          },
          "execution_count": 2,
          "metadata": {},
          "output_type": "execute_result"
        }
      ],
      "source": [
        "df = pd.read_csv('model_metrics.csv')\n",
        "df.head()"
      ]
    },
    {
      "cell_type": "code",
      "execution_count": 67,
      "metadata": {
        "id": "fLAiHt7_h1x7"
      },
      "outputs": [],
      "source": [
        "f1_scores = {\n",
        "    'yolov5s': 0.6363636363636365,\n",
        "    'yolov5m': 0.7636363636363636,\n",
        "    'yolov5l': 0.6363636363636364,\n",
        "    'yolov8s': 0.6415094339622641,\n",
        "    'yolov8m': 0.6666666666666665,\n",
        "    'yolov8l': 0.8076923076923077,\n",
        "}\n"
      ]
    },
    {
      "cell_type": "code",
      "execution_count": 70,
      "metadata": {
        "colab": {
          "base_uri": "https://localhost:8080/",
          "height": 582
        },
        "id": "EAosMsZJgayT",
        "outputId": "12743b7b-c861-4205-c145-d5d826a63494"
      },
      "outputs": [
        {
          "data": {
            "image/png": "[encoded data removed]",
            "text/plain": [
              "<Figure size 1200x600 with 1 Axes>"
            ]
          },
          "metadata": {},
          "output_type": "display_data"
        }
      ],
      "source": [
        "import matplotlib.pyplot as plt\n",
        "import seaborn as sns\n",
        "\n",
        "# Seaborn style\n",
        "sns.set_style(\"whitegrid\")\n",
        "\n",
        "# Assuming these are your F1-scores and inference times\n",
        "yolov5_models = ['yolov5s', 'yolov5m', 'yolov5l']\n",
        "yolov8_models = ['yolov8s', 'yolov8m', 'yolov8l']\n",
        "\n",
        "yolov5_times = [inference_times[model] for model in yolov5_models]\n",
        "yolov5_f1s = [f1_scores[model] for model in yolov5_models]\n",
        "\n",
        "yolov8_times = [inference_times[model] for model in yolov8_models]\n",
        "yolov8_f1s = [f1_scores[model] for model in yolov8_models]\n",
        "\n",
        "# Create a larger plot\n",
        "plt.figure(figsize=(12, 6))\n",
        "\n",
        "# Use more appealing plot lines\n",
        "plt.plot(yolov5_times, yolov5_f1s, marker='o', markersize=10, linestyle='-', color='deepskyblue', linewidth=2.5, label='YOLOv5')\n",
        "plt.plot(yolov8_times, yolov8_f1s, marker='o', markersize=10, linestyle='-', color='tomato', linewidth=2.5, label='YOLOv8')\n",
        "\n",
        "# Add titles and labels with a larger font\n",
        "plt.title('F1 Score vs Inference Time for YOLO models', fontsize=20)\n",
        "plt.xlabel('Inference Time (s) for cpu', fontsize=15)\n",
        "plt.ylabel('F1 Score', fontsize=15)\n",
        "\n",
        "# Increase ticks size\n",
        "plt.xticks(fontsize=12)\n",
        "plt.yticks(fontsize=12)\n",
        "plt.ylim(0, 1)\n",
        "\n",
        "# Add legend with bigger font\n",
        "plt.legend(prop={'size': 15})\n",
        "\n",
        "# Show grid\n",
        "plt.grid(True)\n",
        "\n",
        "plt.show()\n"
      ]
    }
  ],
  "metadata": {
    "colab": {
      "provenance": []
    },
    "kernelspec": {
      "display_name": "Python 3",
      "name": "python3"
    },
    "language_info": {
      "codemirror_mode": {
        "name": "ipython",
        "version": 3
      },
      "file_extension": ".py",
      "mimetype": "text/x-python",
      "name": "python",
      "nbconvert_exporter": "python",
      "pygments_lexer": "ipython3",
      "version": "3.11.4"
    }
  },
  "nbformat": 4,
  "nbformat_minor": 0
}
